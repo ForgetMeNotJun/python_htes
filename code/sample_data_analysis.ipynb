{
 "cells": [
  {
   "cell_type": "markdown",
   "id": "ccbe033e",
   "metadata": {},
   "source": [
    "\n",
    "# サンプルデータセットの解析\n",
    "\n",
    "このノートブックでは、提供されたサンプルデータセットを使用してCausal Forestを用いた異質な処置効果（HTE）の識別を行います。\n"
   ]
  },
  {
   "cell_type": "code",
   "execution_count": null,
   "id": "fe68500c",
   "metadata": {},
   "outputs": [],
   "source": [
    "\n",
    "%matplotlib inline\n",
    "import numpy as np\n",
    "import pandas as pd\n",
    "import matplotlib.pyplot as plt\n",
    "from sklearn.model_selection import KFold\n",
    "from sklearn.preprocessing import StandardScaler\n",
    "from causalml.inference.tree import CausalForest\n",
    "import warnings \n",
    "warnings.filterwarnings('ignore')\n",
    "pd.set_option('display.max_columns', 400)\n"
   ]
  },
  {
   "cell_type": "markdown",
   "id": "1f3e919c",
   "metadata": {},
   "source": [
    "\n",
    "## データの読み込み\n",
    "\n",
    "サンプルデータセットを読み込みます。\n"
   ]
  },
  {
   "cell_type": "code",
   "execution_count": null,
   "id": "7b135c2c",
   "metadata": {},
   "outputs": [],
   "source": [
    "\n",
    "# データの読み込み\n",
    "df = pd.read_csv(\"sample_data.csv\")\n",
    "df.head()\n"
   ]
  },
  {
   "cell_type": "markdown",
   "id": "6b9c2065",
   "metadata": {},
   "source": [
    "\n",
    "## 変数の定義\n",
    "\n",
    "処置変数、結果変数、共変量リストを定義します。\n"
   ]
  },
  {
   "cell_type": "code",
   "execution_count": null,
   "id": "99f83a5e",
   "metadata": {},
   "outputs": [],
   "source": [
    "\n",
    "# 変数の定義\n",
    "COVARIATES_LIST = [\"covariate_1\", \"covariate_2\", \"covariate_3\", \"covariate_4\", \"covariate_5\"]\n",
    "OUTCOME = \"outcome\"\n",
    "TREATMENT = \"treatment\"\n",
    "\n",
    "X = df[COVARIATES_LIST]\n",
    "Y = df[OUTCOME].values\n",
    "W = df[TREATMENT].values\n"
   ]
  },
  {
   "cell_type": "markdown",
   "id": "3dc1f7b6",
   "metadata": {},
   "source": [
    "\n",
    "## クロスバリデーションのセットアップ\n",
    "\n",
    "クロスバリデーションの設定を行います。\n"
   ]
  },
  {
   "cell_type": "code",
   "execution_count": null,
   "id": "d1a1d57d",
   "metadata": {},
   "outputs": [],
   "source": [
    "\n",
    "num_rankings = 5\n",
    "num_folds = 10\n",
    "kf = KFold(n_splits=num_folds, shuffle=True, random_state=1)\n"
   ]
  },
  {
   "cell_type": "markdown",
   "id": "15db7569",
   "metadata": {},
   "source": [
    "\n",
    "## シミュレーションとモデルフィッティング\n",
    "\n",
    "シミュレーションを行い、モデルをフィットさせます。\n"
   ]
  },
  {
   "cell_type": "code",
   "execution_count": null,
   "id": "b84fc3fa",
   "metadata": {},
   "outputs": [],
   "source": [
    "\n",
    "n = 1000\n",
    "results = []\n",
    "\n",
    "for i in range(n):\n",
    "    np.random.seed(i)\n",
    "    cf = CausalForest(n_estimators=5000, random_state=i)\n",
    "    cf.fit(X.values, W, Y)\n",
    "\n",
    "    tau_hat = cf.predict(X.values).flatten()\n",
    "    e_hat = cf.propensity\n",
    "    m_hat = cf.marginal_outcome\n",
    "\n",
    "    rankings = np.full(X.shape[0], np.nan)\n",
    "    for train_index, test_index in kf.split(X):\n",
    "        tau_hat_quantiles = np.quantile(tau_hat[test_index], np.linspace(0, 1, num_rankings + 1))\n",
    "        rankings[test_index] = np.digitize(tau_hat[test_index], tau_hat_quantiles) - 1\n",
    "\n",
    "    mu_hat_0 = m_hat - e_hat * tau_hat\n",
    "    mu_hat_1 = m_hat + (1 - e_hat) * tau_hat\n",
    "    aipw_scores = tau_hat + W / e_hat * (Y - mu_hat_1) - (1 - W) / (1 - e_hat) * (Y - mu_hat_0)\n"
   ]
  },
  {
   "cell_type": "markdown",
   "id": "3e8d157d",
   "metadata": {},
   "source": [
    "\n",
    "## AIPWスコアのプロット\n",
    "\n",
    "推定された処置効果をプロットします。\n"
   ]
  },
  {
   "cell_type": "code",
   "execution_count": null,
   "id": "b9fe5780",
   "metadata": {},
   "outputs": [],
   "source": [
    "\n",
    "plt.figure(figsize=(10, 6))\n",
    "plt.scatter(range(len(tau_hat)), tau_hat, alpha=0.5)\n",
    "plt.axhline(y=0, color='grey', linestyle='--')\n",
    "plt.xlabel(\"Individual ranking of treatment effects\")\n",
    "plt.ylabel(\"Estimated individual treatment effects on outcome\")\n",
    "plt.title(\"Estimated Treatment Effects\")\n",
    "plt.show()\n"
   ]
  },
  {
   "cell_type": "markdown",
   "id": "6f374b5a",
   "metadata": {},
   "source": [
    "\n",
    "## 平均処置効果（ATE）のプロット\n",
    "\n",
    "各クインタイルの平均処置効果をプロットします。\n"
   ]
  },
  {
   "cell_type": "code",
   "execution_count": null,
   "id": "fa221979",
   "metadata": {},
   "outputs": [],
   "source": [
    "\n",
    "forest_ate = []\n",
    "for q in range(num_rankings):\n",
    "    mask = (rankings == q)\n",
    "    ate = np.mean(aipw_scores[mask])\n",
    "    stderr = np.std(aipw_scores[mask]) / np.sqrt(mask.sum())\n",
    "    forest_ate.append((f\"Quintile{q + 1}\", ate, stderr))\n",
    "forest_ate_df = pd.DataFrame(forest_ate, columns=[\"Quintile\", \"Estimate\", \"StdErr\"])\n",
    "\n",
    "plt.figure(figsize=(10, 6))\n",
    "plt.errorbar(forest_ate_df[\"Quintile\"], forest_ate_df[\"Estimate\"], yerr=1.96 * forest_ate_df[\"StdErr\"], fmt='o', color='black', capsize=5)\n",
    "plt.axhline(y=0, color='grey', linestyle='--')\n",
    "plt.xlabel(\"Quintile\")\n",
    "plt.ylabel(\"The treatment effect on outcome\")\n",
    "plt.title(\"Average CATE within each ranking (as defined by predicted CATE)\")\n",
    "plt.show()\n"
   ]
  },
  {
   "cell_type": "markdown",
   "id": "1633f548",
   "metadata": {},
   "source": [
    "\n",
    "## ATTとATEの計算\n",
    "\n",
    "ATT（処置された対象の平均処置効果）とATE（全体の平均処置効果）を計算して出力します。\n"
   ]
  },
  {
   "cell_type": "code",
   "execution_count": null,
   "id": "f06d69db",
   "metadata": {},
   "outputs": [],
   "source": [
    "\n",
    "att_results = []\n",
    "ate_results = []\n",
    "for q in range(num_rankings):\n",
    "    mask = (rankings == q)\n",
    "    att = cf.estimate_ate(X.values[mask], W[mask], Y[mask], target=\"treated\")\n",
    "    ate = cf.estimate_ate(X.values[mask], W[mask], Y[mask])\n",
    "    att_results.append(att)\n",
    "    ate_results.append(ate)\n",
    "\n",
    "print(\"ATT Results:\", att_results)\n",
    "print(\"ATE Results:\", ate_results)\n"
   ]
  }
 ],
 "metadata": {},
 "nbformat": 4,
 "nbformat_minor": 5
}
