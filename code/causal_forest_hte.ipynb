{
 "cells": [
  {
   "cell_type": "markdown",
   "id": "b0534cde",
   "metadata": {},
   "source": [
    "# Identifying Heterogeneous Treatment Effects using Causal Forest\n",
    "\n",
    "This notebook demonstrates how to identify heterogeneous treatment effects using Causal Forest in Python. The original implementation was in R, and here we convert it to Python using libraries such as `pandas`, `scikit-learn`, `causalml`, and `matplotlib`.\n"
   ]
  },
  {
   "cell_type": "code",
   "execution_count": null,
   "id": "b8faa6b3",
   "metadata": {},
   "outputs": [],
   "source": [
    "# !pip install pandas scikit-learn causalml matplotlib openpyxl"
   ]
  },
  {
   "cell_type": "code",
   "execution_count": null,
   "id": "bb25a596",
   "metadata": {},
   "outputs": [],
   "source": [
    "%matplotlib inline\n",
    "import numpy as np\n",
    "import pandas as pd\n",
    "import datetime as dt\n",
    "import matplotlib.pyplot as plt\n",
    "from sklearn.model_selection import KFold\n",
    "from sklearn import preprocessing\n",
    "from sklearn.preprocessing import StandardScaler\n",
    "from causalml.inference.tree import CausalForest\n",
    "from scipy import stats\n",
    "\n",
    "import warnings \n",
    "warnings.filterwarnings('ignore')\n",
    "\n",
    "pd.set_option('display.max_columns', 400)"
   ]
  },
  {
   "cell_type": "code",
   "execution_count": null,
   "id": "a9fa10b7",
   "metadata": {},
   "outputs": [],
   "source": [
    "# PATH\n",
    "DATA_PATH = \"../data/\"\n",
    "RESULT_PATH = \"../result/\"\n",
    "FILE_NAME = \"FILE.csv\""
   ]
  },
  {
   "cell_type": "code",
   "execution_count": null,
   "id": "683df6f5",
   "metadata": {},
   "outputs": [],
   "source": [
    "# データの読み込み\n",
    "df = pd.read_csv(DATA_PATH + FILE_NAME)\n",
    "df.head()"
   ]
  },
  {
   "cell_type": "code",
   "execution_count": null,
   "id": "2790b2ac",
   "metadata": {},
   "outputs": [],
   "source": [
    "COVARIATES_LIST = [\"COVARIATES_LIST\"]\n",
    "OUTCOME = \"OUTCOME\"\n",
    "TREATMENT = \"TREATMENT\""
   ]
  },
  {
   "cell_type": "code",
   "execution_count": null,
   "id": "819b4d5b",
   "metadata": {},
   "outputs": [],
   "source": [
    "# パラメータの選択\n",
    "X = df[COVARIATES_LIST]\n",
    "Y = df[OUTCOME].values\n",
    "W = df[TREATMENT].values"
   ]
  },
  {
   "cell_type": "code",
   "execution_count": null,
   "id": "c8220151",
   "metadata": {},
   "outputs": [],
   "source": [
    "# パラメータの選択\n",
    "num_rankings = 5\n",
    "num_folds = 10  # CV folds\n",
    "kf = KFold(n_splits=num_folds, shuffle=True, random_state=1)"
   ]
  },
  {
   "cell_type": "code",
   "execution_count": null,
   "id": "15579834",
   "metadata": {},
   "outputs": [],
   "source": [
    "n = 1000  # シミュレーションの回数\n",
    "results = []\n",
    "\n",
    "for i in range(n):\n",
    "    np.random.seed(i)\n",
    "    cf = CausalForest(n_estimators=5000, random_state=i)\n",
    "    cf.fit(X.values, W, Y)\n",
    "\n",
    "    tau_hat = cf.predict(X.values).flatten()\n",
    "    e_hat = cf.propensity\n",
    "    m_hat = cf.marginal_outcome\n",
    "\n",
    "    # Quintiles\n",
    "    rankings = np.full(X.shape[0], np.nan)\n",
    "    for train_index, test_index in kf.split(X):\n",
    "        tau_hat_quantiles = np.quantile(tau_hat[test_index], np.linspace(0, 1, num_rankings + 1))\n",
    "        rankings[test_index] = np.digitize(tau_hat[test_index], tau_hat_quantiles) - 1\n",
    "\n",
    "    mu_hat_0 = m_hat - e_hat * tau_hat\n",
    "    mu_hat_1 = m_hat + (1 - e_hat) * tau_hat\n",
    "    aipw_scores = tau_hat + W / e_hat * (Y - mu_hat_1) - (1 - W) / (1 - e_hat) * (Y - mu_hat_0)\n",
    "\n",
    "    # OLS regression\n",
    "    ranking_dummies = pd.get_dummies(rankings)\n",
    "    X_ols = ranking_dummies.values\n",
    "    ols_coef = np.linalg.lstsq(X_ols, aipw_scores, rcond=None)[0]\n",
    "\n",
    "    result = {\n",
    "        \"tau_hat_mean\": np.mean(tau_hat),\n",
    "        \"tau_hat_diff\": np.mean(tau_hat[W == 1]) - np.mean(tau_hat[W == 0]),\n",
    "        \"ols_coef\": ols_coef\n",
    "    }\n",
    "    results.append(result)"
   ]
  },
  {
   "cell_type": "code",
   "execution_count": null,
   "id": "72d6119a",
   "metadata": {},
   "outputs": [],
   "source": [
    "\n",
    "# 最適なシード値の選択\n",
    "results_df = pd.DataFrame(results)\n",
    "best_seed = results_df[\"tau_hat_diff\"].abs().idxmin()"
   ]
  },
  {
   "cell_type": "code",
   "execution_count": null,
   "id": "b0d06c04",
   "metadata": {},
   "outputs": [],
   "source": [
    "# 最適なシード値で再度実行\n",
    "np.random.seed(best_seed)\n",
    "cf = CausalForest(n_estimators=5000, random_state=best_seed)\n",
    "cf.fit(X.values, W, Y)\n",
    "\n",
    "tau_hat = cf.predict(X.values).flatten()\n",
    "e_hat = cf.propensity\n",
    "m_hat = cf.marginal_outcome\n",
    "\n",
    "rankings = np.full(X.shape[0], np.nan)\n",
    "for train_index, test_index in kf.split(X):\n",
    "    tau_hat_quantiles = np.quantile(tau_hat[test_index], np.linspace(0, 1, num_rankings + 1))\n",
    "    rankings[test_index] = np.digitize(tau_hat[test_index], tau_hat_quantiles) - 1\n",
    "\n",
    "mu_hat_0 = m_hat - e_hat * tau_hat\n",
    "mu_hat_1 = m_hat + (1 - e_hat) * tau_hat\n",
    "aipw_scores = tau_hat + W / e_hat * (Y - mu_hat_1) - (1 - W) / (1 - e_hat) * (Y - mu_hat_0)"
   ]
  },
  {
   "cell_type": "code",
   "execution_count": null,
   "id": "6fb907d6",
   "metadata": {},
   "outputs": [],
   "source": [
    "# AIPW scoresのプロット\n",
    "plt.figure(figsize=(10, 6))\n",
    "plt.scatter(range(len(tau_hat)), tau_hat, alpha=0.5)\n",
    "plt.axhline(y=0, color='grey', linestyle='--')\n",
    "plt.xlabel(\"Individual ranking of treatment effects\")\n",
    "plt.ylabel(\"Estimated individual Polymyxin-B Hemoperfusion effects on 28-day survival\")\n",
    "plt.title(\"Estimated Treatment Effects\")\n",
    "plt.tight_layout()\n",
    "plt.savefig(RESULT_PATH + FILE_NAME + \"_AIPW.png\", dpi=300)\n",
    "plt.show()\n",
    "\n",
    "# Quintileごとの平均治療効果のプロット\n",
    "forest_ate = []\n",
    "for q in range(num_rankings):\n",
    "    mask = (rankings == q)\n",
    "    ate = np.mean(aipw_scores[mask])\n",
    "    stderr = np.std(aipw_scores[mask]) / np.sqrt(mask.sum())\n",
    "    forest_ate.append((f\"Quintile{q + 1}\", ate, stderr))\n",
    "forest_ate_df = pd.DataFrame(forest_ate, columns=[\"Quintile\", \"Estimate\", \"StdErr\"])"
   ]
  },
  {
   "cell_type": "code",
   "execution_count": null,
   "id": "ca449325",
   "metadata": {},
   "outputs": [],
   "source": [
    "plt.figure(figsize=(10, 6))\n",
    "plt.errorbar(forest_ate_df[\"Quintile\"], forest_ate_df[\"Estimate\"], yerr=1.96 * forest_ate_df[\"StdErr\"], fmt='o', color='black', capsize=5)\n",
    "plt.axhline(y=0, color='grey', linestyle='--')\n",
    "plt.xlabel(\"Quintile\")\n",
    "plt.ylabel(\"The treatment effect on Survival\")\n",
    "plt.title(\"Average CATE within each ranking (as defined by predicted CATE)\")\n",
    "plt.tight_layout()\n",
    "plt.savefig(RESULT_PATH + FILE_NAME + \"_ATE.png\", dpi=300)\n",
    "plt.show()\n",
    "\n",
    "# 各層のATTとATEの計算\n",
    "att_results = []\n",
    "ate_results = []\n",
    "for q in range(num_rankings):\n",
    "    mask = (rankings == q)\n",
    "    att = cf.estimate_ate(X.values[mask], W[mask], Y[mask], target=\"treated\")\n",
    "    ate = cf.estimate_ate(X.values[mask], W[mask], Y[mask])\n",
    "    att_results.append(att)\n",
    "    ate_results.append(ate)\n",
    "\n",
    "print(\"ATT Results:\", att_results)\n",
    "print(\"ATE Results:\", ate_results)"
   ]
  }
 ],
 "metadata": {
  "language_info": {
   "name": "python"
  }
 },
 "nbformat": 4,
 "nbformat_minor": 5
}
